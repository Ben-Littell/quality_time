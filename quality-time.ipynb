{
 "cells": [
  {
   "cell_type": "code",
   "execution_count": 1,
   "id": "4d393f27",
   "metadata": {
    "_cell_guid": "b1076dfc-b9ad-4769-8c92-a6c4dae69d19",
    "_uuid": "8f2839f25d086af736a60e9eeb907d3b93b6e0e5",
    "execution": {
     "iopub.execute_input": "2022-10-27T16:10:44.894189Z",
     "iopub.status.busy": "2022-10-27T16:10:44.893655Z",
     "iopub.status.idle": "2022-10-27T16:10:44.912147Z",
     "shell.execute_reply": "2022-10-27T16:10:44.911127Z"
    },
    "papermill": {
     "duration": 0.027118,
     "end_time": "2022-10-27T16:10:44.915246",
     "exception": false,
     "start_time": "2022-10-27T16:10:44.888128",
     "status": "completed"
    },
    "tags": []
   },
   "outputs": [
    {
     "name": "stdout",
     "output_type": "stream",
     "text": [
      "/kaggle/input/qualitytimedata/website_times.txt\n"
     ]
    }
   ],
   "source": [
    "# This Python 3 environment comes with many helpful analytics libraries installed\n",
    "# It is defined by the kaggle/python Docker image: https://github.com/kaggle/docker-python\n",
    "# For example, here's several helpful packages to load\n",
    "\n",
    "import numpy as np # linear algebra\n",
    "import pandas as pd # data processing, CSV file I/O (e.g. pd.read_csv)\n",
    "\n",
    "# Input data files are available in the read-only \"../input/\" directory\n",
    "# For example, running this (by clicking run or pressing Shift+Enter) will list all files under the input directory\n",
    "\n",
    "import os\n",
    "for dirname, _, filenames in os.walk('/kaggle/input'):\n",
    "    for filename in filenames:\n",
    "        print(os.path.join(dirname, filename))\n",
    "\n",
    "# You can write up to 20GB to the current directory (/kaggle/working/) that gets preserved as output when you create a version using \"Save & Run All\" \n",
    "# You can also write temporary files to /kaggle/temp/, but they won't be saved outside of the current session"
   ]
  },
  {
   "cell_type": "code",
   "execution_count": 2,
   "id": "309e2f1a",
   "metadata": {
    "execution": {
     "iopub.execute_input": "2022-10-27T16:10:44.923267Z",
     "iopub.status.busy": "2022-10-27T16:10:44.922276Z",
     "iopub.status.idle": "2022-10-27T16:10:44.959545Z",
     "shell.execute_reply": "2022-10-27T16:10:44.958085Z"
    },
    "papermill": {
     "duration": 0.044261,
     "end_time": "2022-10-27T16:10:44.962856",
     "exception": false,
     "start_time": "2022-10-27T16:10:44.918595",
     "status": "completed"
    },
    "tags": []
   },
   "outputs": [
    {
     "name": "stdout",
     "output_type": "stream",
     "text": [
      "[26.5, 36.0, 51.0]\n"
     ]
    }
   ],
   "source": [
    "# import pandas as pd\n",
    "# import numpy as np\n",
    "import matplotlib.pyplot as plt\n",
    "\n",
    "path = '../input/qualitytimedata/website_times.txt'\n",
    "qt_df = pd.read_csv(path, delim_whitespace=True)\n",
    "\n",
    "def median(data):\n",
    "    data.sort()\n",
    "    if len(data)%2 == 0:\n",
    "        m = (data[len(data)//2] + data[len(data)//2-1])/2\n",
    "    else:\n",
    "        m = data[len(data)//2]\n",
    "    return m\n",
    "\n",
    "def quartile(data):\n",
    "    if len(data)%2==0:\n",
    "        h1 = data[slice(int(len(data)/2))]\n",
    "        h2 = data[slice(int(len(data)/2), len(data))]\n",
    "        q1 = median(h1)\n",
    "        q2 = median(data)\n",
    "        q3 = median(h2)\n",
    "    else:\n",
    "        q2 = median(data)\n",
    "        h1 = data[slice(data.index(q2))]\n",
    "        h2 = data[slice(data.index(q2), len(data))]\n",
    "        q1 = median(h1)\n",
    "        q3 = median(h2)\n",
    "    return [q1, q2, q3]\n",
    "\n",
    "        \n",
    "\n",
    "\n",
    "web_a_list = qt_df['Website_A'].tolist()\n",
    "web_b_list = qt_df['Website_B'].tolist()\n",
    "\n",
    "test = [24, 25, 26, 27, 30, 32, 40, 44, 50, 52, 55, 57]\n",
    "tquars = quartile(test)\n",
    "print(tquars)"
   ]
  },
  {
   "cell_type": "code",
   "execution_count": 3,
   "id": "28bcec8d",
   "metadata": {
    "execution": {
     "iopub.execute_input": "2022-10-27T16:10:44.969851Z",
     "iopub.status.busy": "2022-10-27T16:10:44.969444Z",
     "iopub.status.idle": "2022-10-27T16:10:45.446729Z",
     "shell.execute_reply": "2022-10-27T16:10:45.445423Z"
    },
    "papermill": {
     "duration": 0.483806,
     "end_time": "2022-10-27T16:10:45.449680",
     "exception": false,
     "start_time": "2022-10-27T16:10:44.965874",
     "status": "completed"
    },
    "tags": []
   },
   "outputs": [
    {
     "data": {
      "image/png": "[encoded data removed]",
      "text/plain": [
       "<Figure size 432x288 with 1 Axes>"
      ]
     },
     "metadata": {
      "needs_background": "light"
     },
     "output_type": "display_data"
    },
    {
     "data": {
      "image/png": "[encoded data removed]",
      "text/plain": [
       "<Figure size 432x288 with 1 Axes>"
      ]
     },
     "metadata": {
      "needs_background": "light"
     },
     "output_type": "display_data"
    }
   ],
   "source": [
    "# histogram\n",
    "def plot_hist(data, tit, xlabel, ylabel):\n",
    "    qs = quartile(data)\n",
    "    plt.hist(data)\n",
    "    plt.title(tit)\n",
    "    plt.xlabel(xlabel)\n",
    "    plt.ylabel(ylabel)\n",
    "    plt.axvline(qs[0], color='r')\n",
    "    plt.axvline(qs[1], color='r')\n",
    "    plt.axvline(qs[2], color='r')\n",
    "    plt.show()\n",
    "    \n",
    "\n",
    "web_a_quars = quartile(web_a_list)\n",
    "web_b_q = quartile(web_b_list)\n",
    "plot_hist(web_a_list, 'Web A user to time', 'min on A', '# Users')\n",
    "plot_hist(web_b_list, 'Web B user to time', 'Min on B', '# Users')\n"
   ]
  },
  {
   "cell_type": "code",
   "execution_count": 4,
   "id": "97e3a8ea",
   "metadata": {
    "execution": {
     "iopub.execute_input": "2022-10-27T16:10:45.459091Z",
     "iopub.status.busy": "2022-10-27T16:10:45.458680Z",
     "iopub.status.idle": "2022-10-27T16:10:45.821551Z",
     "shell.execute_reply": "2022-10-27T16:10:45.820230Z"
    },
    "papermill": {
     "duration": 0.370159,
     "end_time": "2022-10-27T16:10:45.824399",
     "exception": false,
     "start_time": "2022-10-27T16:10:45.454240",
     "status": "completed"
    },
    "tags": []
   },
   "outputs": [
    {
     "data": {
      "image/png": "[encoded data removed]",
      "text/plain": [
       "<Figure size 432x288 with 1 Axes>"
      ]
     },
     "metadata": {
      "needs_background": "light"
     },
     "output_type": "display_data"
    },
    {
     "data": {
      "image/png": "[encoded data removed]",
      "text/plain": [
       "<Figure size 432x288 with 1 Axes>"
      ]
     },
     "metadata": {
      "needs_background": "light"
     },
     "output_type": "display_data"
    }
   ],
   "source": [
    "def plotbox(data, tit, xlabel, ylabel):\n",
    "    plt.boxplot(data)\n",
    "    plt.title(tit)\n",
    "    plt.xlabel(xlabel)\n",
    "    plt.ylabel(ylabel)\n",
    "    plt.show()\n",
    "\n",
    "\n",
    "\n",
    "\n",
    "plotbox(web_a_list,'Web A user to time', 'min on A', '# Users')\n",
    "plotbox(web_b_list,'Web B user to time', 'min on B', '# Users')"
   ]
  },
  {
   "cell_type": "code",
   "execution_count": 5,
   "id": "5c276f56",
   "metadata": {
    "execution": {
     "iopub.execute_input": "2022-10-27T16:10:45.833440Z",
     "iopub.status.busy": "2022-10-27T16:10:45.833068Z",
     "iopub.status.idle": "2022-10-27T16:10:45.838895Z",
     "shell.execute_reply": "2022-10-27T16:10:45.837549Z"
    },
    "papermill": {
     "duration": 0.013166,
     "end_time": "2022-10-27T16:10:45.841412",
     "exception": false,
     "start_time": "2022-10-27T16:10:45.828246",
     "status": "completed"
    },
    "tags": []
   },
   "outputs": [],
   "source": [
    "def plotpy(data):\n",
    "    pass\n",
    "\n",
    "\n",
    "\n",
    "\n"
   ]
  }
 ],
 "metadata": {
  "kernelspec": {
   "display_name": "Python 3",
   "language": "python",
   "name": "python3"
  },
  "language_info": {
   "codemirror_mode": {
    "name": "ipython",
    "version": 3
   },
   "file_extension": ".py",
   "mimetype": "text/x-python",
   "name": "python",
   "nbconvert_exporter": "python",
   "pygments_lexer": "ipython3",
   "version": "3.7.12"
  },
  "papermill": {
   "default_parameters": {},
   "duration": 10.331826,
   "end_time": "2022-10-27T16:10:46.770261",
   "environment_variables": {},
   "exception": null,
   "input_path": "__notebook__.ipynb",
   "output_path": "__notebook__.ipynb",
   "parameters": {},
   "start_time": "2022-10-27T16:10:36.438435",
   "version": "2.3.4"
  }
 },
 "nbformat": 4,
 "nbformat_minor": 5
}
